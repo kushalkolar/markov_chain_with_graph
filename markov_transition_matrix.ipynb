{
 "cells": [
  {
   "cell_type": "code",
   "execution_count": 1,
   "metadata": {},
   "outputs": [],
   "source": [
    "from pomegranate import *\n",
    "import numpy as np\n",
    "from seaborn import heatmap\n",
    "import json"
   ]
  },
  {
   "cell_type": "code",
   "execution_count": 2,
   "metadata": {},
   "outputs": [],
   "source": [
    "d1 = DiscreteDistribution({'A': 0.25, 'B': 0.75})\n",
    "d2 = ConditionalProbabilityTable([['A', 'A', 0.1],\n",
    "                                      ['A', 'B', 0.9],\n",
    "                                      ['B', 'A', 0.6],\n",
    "                                      ['B', 'B', 0.4]], [d1])\n",
    "d3 = ConditionalProbabilityTable([['A', 'A', 'A', 0.4],\n",
    "                                      ['A', 'A', 'B', 0.6],\n",
    "                                      ['A', 'B', 'A', 0.8],\n",
    "                                      ['A', 'B', 'B', 0.2],\n",
    "                                      ['B', 'A', 'A', 0.9],\n",
    "                                      ['B', 'A', 'B', 0.1],\n",
    "                                      ['B', 'B', 'A', 0.2],\n",
    "                                      ['B', 'B', 'B', 0.8]], [d1, d2])\n",
    "model = MarkovChain([d1, d2, d3])"
   ]
  },
  {
   "cell_type": "code",
   "execution_count": 3,
   "metadata": {},
   "outputs": [],
   "source": [
    "# Is there a more straight forward way to get the table?\n",
    "table = np.array(json.loads(model.distributions[1].to_json())['table'])"
   ]
  },
  {
   "cell_type": "code",
   "execution_count": 4,
   "metadata": {},
   "outputs": [],
   "source": [
    "# Convert the table to a 2D matrix\n",
    "def table_to_stm(table):\n",
    "    elements, ixs = np.unique(table[:, 1], return_index=True)\n",
    "    letters = elements[np.argsort(ixs)] # Account for the order in which they appear if the \n",
    "                                        # user specified them out of order for strange reasons\n",
    "    \n",
    "    ylabels = letters\n",
    "    \n",
    "    elements, ixs = np.unique(table[:, 0], return_index=True)\n",
    "    xlabels = elements[np.argsort(ixs)]\n",
    "    \n",
    "    # Maybe I could just loop through the xlabels & ylabels and fill an array, \n",
    "    # would also account very for completely out of order tables.\n",
    "    tm = np.vstack([table[table[:, 1] == np.array([letter], dtype=table[:, 1].dtype)][:, 2] for letter in letters])\n",
    "    \n",
    "    return tm, xlabels, ylabels"
   ]
  },
  {
   "cell_type": "code",
   "execution_count": 5,
   "metadata": {},
   "outputs": [],
   "source": [
    "tm, xlabels, ylabels = table_to_stm(table)"
   ]
  },
  {
   "cell_type": "code",
   "execution_count": 6,
   "metadata": {},
   "outputs": [
    {
     "data": {
      "text/plain": [
       "<matplotlib.axes._subplots.AxesSubplot at 0x7f002b7d3f60>"
      ]
     },
     "execution_count": 6,
     "metadata": {},
     "output_type": "execute_result"
    },
    {
     "data": {
      "image/png": "[encoded data removed]",
      "text/plain": [
       "<Figure size 432x288 with 2 Axes>"
      ]
     },
     "metadata": {
      "needs_background": "light"
     },
     "output_type": "display_data"
    }
   ],
   "source": [
    "heatmap(tm.astype(np.float64), xticklabels=xlabels, yticklabels=ylabels)"
   ]
  },
  {
   "cell_type": "code",
   "execution_count": 7,
   "metadata": {},
   "outputs": [],
   "source": [
    "from graphviz import Digraph"
   ]
  },
  {
   "cell_type": "code",
   "execution_count": 8,
   "metadata": {},
   "outputs": [],
   "source": [
    "def draw_graph(table):\n",
    "    f = Digraph('markov', filename='markov', format='pdf')\n",
    "    \n",
    "    letters = np.unique(table[:, 0])\n",
    "        \n",
    "    for state in letters:\n",
    "        f.node(state)\n",
    "\n",
    "    for row in table:\n",
    "        f.edge(row[0], row[1], label=f'{float(row[2]):.2f}', penwidth=f'{2.5*float(row[2])}')\n",
    "    \n",
    "    \n",
    "    f.view()"
   ]
  },
  {
   "cell_type": "code",
   "execution_count": 9,
   "metadata": {},
   "outputs": [],
   "source": [
    "draw_graph(table)"
   ]
  }
 ],
 "metadata": {
  "kernelspec": {
   "display_name": "Python 3",
   "language": "python",
   "name": "python3"
  },
  "language_info": {
   "codemirror_mode": {
    "name": "ipython",
    "version": 3
   },
   "file_extension": ".py",
   "mimetype": "text/x-python",
   "name": "python",
   "nbconvert_exporter": "python",
   "pygments_lexer": "ipython3",
   "version": "3.6.8"
  }
 },
 "nbformat": 4,
 "nbformat_minor": 4
}
